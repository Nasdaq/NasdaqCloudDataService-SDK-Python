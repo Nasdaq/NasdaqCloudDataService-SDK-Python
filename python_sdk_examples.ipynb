{
 "cells": [
  {
   "cell_type": "markdown",
   "source": [
    "# Using the NCDS Python SDK\n",
    "\n",
    "This is a jupyter notebook for the example code of the Python SDK. To get set-up with the SDK, follow the directions on the github page.\n",
    "\n",
    "**NOTE**: Be sure that your notebook is using Python 3.9 when running the examples"
   ],
   "metadata": {}
  },
  {
   "cell_type": "markdown",
   "source": [
    "## Code Examples\n",
    "\n",
    "### Getting list of data stream available\n",
    "List all available data stream for the user"
   ],
   "metadata": {}
  },
  {
   "cell_type": "code",
   "execution_count": 1,
   "source": [
    "security_cfg = {\n",
    "    \"oauth.token.endpoint.uri\": \"https://{auth_endpoint_url}/auth/realms/pro-realm/protocol/openid-connect/token\",\n",
    "    \"oauth.client.id\": \"client\",\n",
    "    \"oauth.client.secret\": \"client-secret\"\n",
    "}\n",
    "kafka_cfg = {\n",
    "    \"bootstrap.servers\": \"{streams_endpoint_url}:9094\",\n",
    "    \"ssl.ca.location\": \"ca.crt\",\n",
    "    \"auto.offset.reset\": \"earliest\"\n",
    "}"
   ],
   "outputs": [],
   "metadata": {}
  },
  {
   "cell_type": "code",
   "execution_count": 2,
   "source": [
    "from ncdssdk import NCDSClient"
   ],
   "outputs": [],
   "metadata": {}
  },
  {
   "cell_type": "code",
   "execution_count": 3,
   "source": [
    "ncds_client = NCDSClient(security_cfg, kafka_cfg)\n",
    "topics = ncds_client.list_topics_for_client()\n",
    "print(\"Data set topics:\")\n",
    "for topic_entry in topics:\n",
    "    print(topic_entry)"
   ],
   "outputs": [
    {
     "output_type": "stream",
     "name": "stdout",
     "text": [
      "Entitled data set topics:\n",
      "TOTALVIEW\n",
      "QBBO-A-PSX\n",
      "QBBO-C-CORE\n",
      "QBBO-B-PSX\n",
      "QBBO-A-BSX\n",
      "NLSCTA\n",
      "QBBO-C-BSX\n",
      "NLSBSX\n",
      "QBBO-A-CORE\n",
      "QBBO-B-CORE\n",
      "QBBO-C-PSX\n",
      "NLSUTP\n",
      "QBBO-B-BSX\n",
      "NLSPSX\n"
     ]
    }
   ],
   "metadata": {}
  },
  {
   "cell_type": "markdown",
   "source": [
    "### Getting schema for the stream\n",
    "\n",
    "This method returns the schema for the stream in Apache Avro format (https://avro.apache.org/docs/current/spec.html)"
   ],
   "metadata": {}
  },
  {
   "cell_type": "code",
   "execution_count": 3,
   "source": [
    "ncds_client = NCDSClient(security_cfg, kafka_cfg)\n",
    "topic = \"NLSCTA\"\n",
    "schema = ncds_client.get_schema_for_topic(topic)\n",
    "print(schema)"
   ],
   "outputs": [
    {
     "output_type": "stream",
     "name": "stdout",
     "text": [
      "latest record found\n",
      "[{\"type\": \"record\", \"version\": \"1\", \"name\": \"SeqAdjClosingPrice\", \"namespace\": \"com.nasdaq.equities.trades.applications.nls.messaging.binary21\", \"fields\": [{\"type\": \"int\", \"name\": \"SoupPartition\"}, {\"type\": \"long\", \"name\": \"SoupSequence\"}, {\"type\": \"long\", \"name\": \"trackingID\"}, {\"type\": \"string\", \"name\": \"msgType\"}, {\"type\": \"string\", \"name\": \"symbol\"}, {\"type\": \"string\", \"name\": \"securityClass\"}, {\"type\": \"int\", \"name\": \"adjClosingPrice\"}]}, {\"type\": \"record\", \"version\": \"1\", \"name\": \"SeqAdjClosingPriceLong\", \"namespace\": \"com.nasdaq.equities.trades.applications.nls.messaging.binary21\", \"fields\": [{\"type\": \"int\", \"name\": \"SoupPartition\"}, {\"type\": \"long\", \"name\": \"SoupSequence\"}, {\"type\": \"long\", \"name\": \"trackingID\"}, {\"type\": \"string\", \"name\": \"msgType\"}, {\"type\": \"string\", \"name\": \"symbol\"}, {\"type\": \"string\", \"name\": \"securityClass\"}, {\"type\": \"long\", \"name\": \"adjClosingPrice\"}]}, {\"type\": \"record\", \"version\": \"1\", \"name\": \"SeqDirectoryMessage\", \"namespace\": \"com.nasdaq.equities.trades.applications.nls.messaging.binary21\", \"fields\": [{\"type\": \"int\", \"name\": \"SoupPartition\"}, {\"type\": \"long\", \"name\": \"SoupSequence\"}, {\"type\": \"long\", \"name\": \"trackingID\"}, {\"type\": \"string\", \"name\": \"msgType\"}, {\"type\": \"string\", \"name\": \"symbol\"}, {\"type\": \"string\", \"name\": \"marketClass\"}, {\"type\": \"string\", \"name\": \"fsi\"}, {\"type\": [\"null\", \"int\"], \"name\": \"roundLotSize\"}, {\"type\": [\"null\", \"string\"], \"name\": \"roundLotOnly\"}, {\"type\": [\"null\", \"string\"], \"name\": \"issueClass\"}, {\"type\": [\"null\", \"string\"], \"name\": \"issueSubtype\"}, {\"type\": [\"null\", \"string\"], \"name\": \"authenticity\"}, {\"type\": [\"null\", \"string\"], \"name\": \"shortThreshold\"}, {\"type\": [\"null\", \"string\"], \"name\": \"ipo\"}, {\"type\": [\"null\", \"string\"], \"name\": \"luldTier\"}, {\"type\": [\"null\", \"string\"], \"name\": \"etf\"}, {\"type\": [\"null\", \"int\"], \"name\": \"etfFactor\"}, {\"type\": [\"null\", \"string\"], \"name\": \"inverseETF\"}, {\"type\": [\"null\", \"string\"], \"name\": \"compositeId\"}]}, {\"type\": \"record\", \"version\": \"1\", \"name\": \"SeqEndOfDayTradeSummary\", \"namespace\": \"com.nasdaq.equities.trades.applications.nls.messaging.binary21\", \"fields\": [{\"type\": \"int\", \"name\": \"SoupPartition\"}, {\"type\": \"long\", \"name\": \"SoupSequence\"}, {\"type\": \"long\", \"name\": \"trackingID\"}, {\"type\": \"string\", \"name\": \"msgType\"}, {\"type\": \"string\", \"name\": \"symbol\"}, {\"type\": \"string\", \"name\": \"securityClass\"}, {\"type\": \"int\", \"name\": \"consHigh\"}, {\"type\": \"int\", \"name\": \"consLow\"}, {\"type\": \"int\", \"name\": \"consClose\"}, {\"type\": \"long\", \"name\": \"cosolidatedVolume\"}, {\"type\": \"int\", \"name\": \"consOpen\"}]}, {\"type\": \"record\", \"version\": \"1\", \"name\": \"SeqEndOfDayTradeSummaryETMF\", \"namespace\": \"com.nasdaq.equities.trades.applications.nls.messaging.binary21\", \"fields\": [{\"type\": \"int\", \"name\": \"SoupPartition\"}, {\"type\": \"long\", \"name\": \"SoupSequence\"}, {\"type\": \"long\", \"name\": \"trackingID\"}, {\"type\": \"string\", \"name\": \"msgType\"}, {\"type\": \"string\", \"name\": \"symbol\"}, {\"type\": \"string\", \"name\": \"securityClass\"}, {\"type\": \"int\", \"name\": \"consHigh\"}, {\"type\": \"int\", \"name\": \"consHighNAV\"}, {\"type\": \"int\", \"name\": \"consLow\"}, {\"type\": \"int\", \"name\": \"consLowNAV\"}, {\"type\": \"int\", \"name\": \"consClose\"}, {\"type\": \"int\", \"name\": \"consCloseNAV\"}, {\"type\": \"long\", \"name\": \"cosolidatedVolume\"}, {\"type\": \"int\", \"name\": \"consOpen\"}, {\"type\": \"int\", \"name\": \"consOpenNAV\"}]}, {\"type\": \"record\", \"version\": \"1\", \"name\": \"SeqEndOfDayTradeSummaryLong\", \"namespace\": \"com.nasdaq.equities.trades.applications.nls.messaging.binary21\", \"fields\": [{\"type\": \"int\", \"name\": \"SoupPartition\"}, {\"type\": \"long\", \"name\": \"SoupSequence\"}, {\"type\": \"long\", \"name\": \"trackingID\"}, {\"type\": \"string\", \"name\": \"msgType\"}, {\"type\": \"string\", \"name\": \"symbol\"}, {\"type\": \"string\", \"name\": \"securityClass\"}, {\"type\": \"long\", \"name\": \"consHigh\"}, {\"type\": \"long\", \"name\": \"consLow\"}, {\"type\": \"long\", \"name\": \"consClose\"}, {\"type\": \"long\", \"name\": \"cosolidatedVolume\"}, {\"type\": \"long\", \"name\": \"consOpen\"}]}, {\"type\": \"record\", \"version\": \"1\", \"name\": \"SeqIPOMessage\", \"namespace\": \"com.nasdaq.equities.trades.applications.nls.messaging.binary21\", \"fields\": [{\"type\": \"int\", \"name\": \"SoupPartition\"}, {\"type\": \"long\", \"name\": \"SoupSequence\"}, {\"type\": \"long\", \"name\": \"trackingID\"}, {\"type\": \"string\", \"name\": \"msgType\"}, {\"type\": \"string\", \"name\": \"symbol\"}, {\"type\": \"string\", \"name\": \"marketCenter\"}, {\"type\": \"string\", \"name\": \"refForNetChange\"}, {\"type\": \"int\", \"name\": \"refPrice\"}]}, {\"type\": \"record\", \"version\": \"1\", \"name\": \"SeqIpoQuoting\", \"namespace\": \"com.nasdaq.equities.trades.applications.nls.messaging.binary21\", \"fields\": [{\"type\": \"int\", \"name\": \"SoupPartition\"}, {\"type\": \"long\", \"name\": \"SoupSequence\"}, {\"type\": \"long\", \"name\": \"trackingID\"}, {\"type\": \"string\", \"name\": \"msgType\"}, {\"type\": \"string\", \"name\": \"symbol\"}, {\"type\": \"int\", \"name\": \"releaseTime\"}, {\"type\": \"string\", \"name\": \"releaseQualifier\"}, {\"type\": \"int\", \"name\": \"ipoPrice\"}]}, {\"type\": \"record\", \"version\": \"1\", \"name\": \"SeqMWCB\", \"namespace\": \"com.nasdaq.equities.trades.applications.nls.messaging.binary21\", \"fields\": [{\"type\": \"int\", \"name\": \"SoupPartition\"}, {\"type\": \"long\", \"name\": \"SoupSequence\"}, {\"type\": \"long\", \"name\": \"trackingID\"}, {\"type\": \"string\", \"name\": \"msgType\"}, {\"type\": \"long\", \"name\": \"level1\"}, {\"type\": \"long\", \"name\": \"level2\"}, {\"type\": \"long\", \"name\": \"level3\"}]}, {\"type\": \"record\", \"version\": \"1\", \"name\": \"SeqMWCBStatus\", \"namespace\": \"com.nasdaq.equities.trades.applications.nls.messaging.binary21\", \"fields\": [{\"type\": \"int\", \"name\": \"SoupPartition\"}, {\"type\": \"long\", \"name\": \"SoupSequence\"}, {\"type\": \"long\", \"name\": \"trackingID\"}, {\"type\": \"string\", \"name\": \"msgType\"}, {\"type\": \"string\", \"name\": \"level\"}]}, {\"type\": \"record\", \"version\": \"1\", \"name\": \"SeqMarketCenterActionMessage\", \"namespace\": \"com.nasdaq.equities.trades.applications.nls.messaging.binary21\", \"fields\": [{\"type\": \"int\", \"name\": \"SoupPartition\"}, {\"type\": \"long\", \"name\": \"SoupSequence\"}, {\"type\": \"long\", \"name\": \"trackingID\"}, {\"type\": \"string\", \"name\": \"msgType\"}, {\"type\": \"string\", \"name\": \"symbol\"}, {\"type\": \"string\", \"name\": \"market\"}, {\"type\": \"string\", \"name\": \"action\"}]}, {\"type\": \"record\", \"version\": \"1\", \"name\": \"SeqShortSaleRestrictionIndicator\", \"namespace\": \"com.nasdaq.equities.trades.applications.nls.messaging.binary21\", \"fields\": [{\"type\": \"int\", \"name\": \"SoupPartition\"}, {\"type\": \"long\", \"name\": \"SoupSequence\"}, {\"type\": \"long\", \"name\": \"trackingID\"}, {\"type\": \"string\", \"name\": \"msgType\"}, {\"type\": \"string\", \"name\": \"symbol\"}, {\"type\": \"string\", \"name\": \"regSHOAction\"}]}, {\"type\": \"record\", \"version\": \"1\", \"name\": \"SeqSystemEventMessage\", \"namespace\": \"com.nasdaq.equities.trades.applications.nls.messaging.binary21\", \"fields\": [{\"type\": \"int\", \"name\": \"SoupPartition\"}, {\"type\": \"long\", \"name\": \"SoupSequence\"}, {\"type\": \"long\", \"name\": \"trackingID\"}, {\"type\": \"string\", \"name\": \"msgType\"}, {\"type\": \"string\", \"name\": \"event\"}]}, {\"type\": \"record\", \"version\": \"1\", \"name\": \"SeqTradeCancel\", \"namespace\": \"com.nasdaq.equities.trades.applications.nls.messaging.binary21\", \"fields\": [{\"type\": \"int\", \"name\": \"SoupPartition\"}, {\"type\": \"long\", \"name\": \"SoupSequence\"}, {\"type\": \"long\", \"name\": \"trackingID\"}, {\"type\": \"string\", \"name\": \"msgType\"}, {\"type\": \"string\", \"name\": \"marketCenter\"}, {\"type\": \"string\", \"name\": \"symbol\"}, {\"type\": \"string\", \"name\": \"securityClass\"}, {\"type\": \"string\", \"name\": \"origControlNumber\"}, {\"type\": \"int\", \"name\": \"origPrice\"}, {\"type\": \"int\", \"name\": \"origSize\"}, {\"type\": \"string\", \"name\": \"origSaleCondition\"}, {\"type\": \"long\", \"name\": \"cosolidatedVolume\"}]}, {\"type\": \"record\", \"version\": \"1\", \"name\": \"SeqTradeCancelETMFMessage\", \"namespace\": \"com.nasdaq.equities.trades.applications.nls.messaging.binary21\", \"fields\": [{\"type\": \"int\", \"name\": \"SoupPartition\"}, {\"type\": \"long\", \"name\": \"SoupSequence\"}, {\"type\": \"long\", \"name\": \"trackingID\"}, {\"type\": \"string\", \"name\": \"msgType\"}, {\"type\": \"string\", \"name\": \"marketCenter\"}, {\"type\": \"string\", \"name\": \"symbol\"}, {\"type\": \"string\", \"name\": \"securityClass\"}, {\"type\": \"string\", \"name\": \"origControlNumber\"}, {\"type\": \"int\", \"name\": \"origPrice\"}, {\"type\": \"int\", \"name\": \"origNavPrice\"}, {\"type\": \"int\", \"name\": \"origSize\"}, {\"type\": \"string\", \"name\": \"origSaleCondition\"}, {\"type\": \"long\", \"name\": \"cosolidatedVolume\"}]}, {\"type\": \"record\", \"version\": \"1\", \"name\": \"SeqTradeCancelLong\", \"namespace\": \"com.nasdaq.equities.trades.applications.nls.messaging.binary21\", \"fields\": [{\"type\": \"int\", \"name\": \"SoupPartition\"}, {\"type\": \"long\", \"name\": \"SoupSequence\"}, {\"type\": \"long\", \"name\": \"trackingID\"}, {\"type\": \"string\", \"name\": \"msgType\"}, {\"type\": \"string\", \"name\": \"marketCenter\"}, {\"type\": \"string\", \"name\": \"symbol\"}, {\"type\": \"string\", \"name\": \"securityClass\"}, {\"type\": \"string\", \"name\": \"origControlNumber\"}, {\"type\": \"long\", \"name\": \"origPrice\"}, {\"type\": \"int\", \"name\": \"origSize\"}, {\"type\": \"string\", \"name\": \"origSaleCondition\"}, {\"type\": \"long\", \"name\": \"cosolidatedVolume\"}]}, {\"type\": \"record\", \"version\": \"1\", \"name\": \"SeqTradeCorrection\", \"namespace\": \"com.nasdaq.equities.trades.applications.nls.messaging.binary21\", \"fields\": [{\"type\": \"int\", \"name\": \"SoupPartition\"}, {\"type\": \"long\", \"name\": \"SoupSequence\"}, {\"type\": \"long\", \"name\": \"trackingID\"}, {\"type\": \"string\", \"name\": \"msgType\"}, {\"type\": \"string\", \"name\": \"marketCenter\"}, {\"type\": \"string\", \"name\": \"symbol\"}, {\"type\": \"string\", \"name\": \"securityClass\"}, {\"type\": \"string\", \"name\": \"origControlNumber\"}, {\"type\": \"int\", \"name\": \"origPrice\"}, {\"type\": \"int\", \"name\": \"origSize\"}, {\"type\": \"string\", \"name\": \"origSaleCondition\"}, {\"type\": \"string\", \"name\": \"correctedControlNumber\"}, {\"type\": \"int\", \"name\": \"correctedPrice\"}, {\"type\": \"int\", \"name\": \"correctedSize\"}, {\"type\": \"string\", \"name\": \"correctedSaleCondition\"}, {\"type\": \"long\", \"name\": \"cosolidatedVolume\"}]}, {\"type\": \"record\", \"version\": \"1\", \"name\": \"SeqTradeCorrectionETMFMessage\", \"namespace\": \"com.nasdaq.equities.trades.applications.nls.messaging.binary21\", \"fields\": [{\"type\": \"int\", \"name\": \"SoupPartition\"}, {\"type\": \"long\", \"name\": \"SoupSequence\"}, {\"type\": \"long\", \"name\": \"trackingID\"}, {\"type\": \"string\", \"name\": \"msgType\"}, {\"type\": \"string\", \"name\": \"marketCenter\"}, {\"type\": \"string\", \"name\": \"symbol\"}, {\"type\": \"string\", \"name\": \"securityClass\"}, {\"type\": \"string\", \"name\": \"origControlNumber\"}, {\"type\": \"int\", \"name\": \"origPrice\"}, {\"type\": \"int\", \"name\": \"origNavPremium\"}, {\"type\": \"int\", \"name\": \"origSize\"}, {\"type\": \"string\", \"name\": \"origSaleCondition\"}, {\"type\": \"string\", \"name\": \"correctedControlNumber\"}, {\"type\": \"int\", \"name\": \"correctedPrice\"}, {\"type\": \"int\", \"name\": \"correctedNavPremium\"}, {\"type\": \"int\", \"name\": \"correctedSize\"}, {\"type\": \"string\", \"name\": \"correctedSaleCondition\"}, {\"type\": \"long\", \"name\": \"cosolidatedVolume\"}]}, {\"type\": \"record\", \"version\": \"1\", \"name\": \"SeqTradeCorrectionLong\", \"namespace\": \"com.nasdaq.equities.trades.applications.nls.messaging.binary21\", \"fields\": [{\"type\": \"int\", \"name\": \"SoupPartition\"}, {\"type\": \"long\", \"name\": \"SoupSequence\"}, {\"type\": \"long\", \"name\": \"trackingID\"}, {\"type\": \"string\", \"name\": \"msgType\"}, {\"type\": \"string\", \"name\": \"marketCenter\"}, {\"type\": \"string\", \"name\": \"symbol\"}, {\"type\": \"string\", \"name\": \"securityClass\"}, {\"type\": \"string\", \"name\": \"origControlNumber\"}, {\"type\": \"long\", \"name\": \"origPrice\"}, {\"type\": \"int\", \"name\": \"origSize\"}, {\"type\": \"string\", \"name\": \"origSaleCondition\"}, {\"type\": \"string\", \"name\": \"correctedControlNumber\"}, {\"type\": \"long\", \"name\": \"correctedPrice\"}, {\"type\": \"int\", \"name\": \"correctedSize\"}, {\"type\": \"string\", \"name\": \"correctedSaleCondition\"}, {\"type\": \"long\", \"name\": \"cosolidatedVolume\"}]}, {\"type\": \"record\", \"version\": \"1\", \"name\": \"SeqTradeReportETMFMessage\", \"namespace\": \"com.nasdaq.equities.trades.applications.nls.messaging.binary21\", \"fields\": [{\"type\": \"int\", \"name\": \"SoupPartition\"}, {\"type\": \"long\", \"name\": \"SoupSequence\"}, {\"type\": \"long\", \"name\": \"trackingID\"}, {\"type\": \"string\", \"name\": \"msgType\"}, {\"type\": \"string\", \"name\": \"marketCenter\"}, {\"type\": \"string\", \"name\": \"symbol\"}, {\"type\": \"string\", \"name\": \"securityClass\"}, {\"type\": \"string\", \"name\": \"controlNumber\"}, {\"type\": \"int\", \"name\": \"price\"}, {\"type\": \"int\", \"name\": \"size\"}, {\"type\": \"int\", \"name\": \"navPremium\"}, {\"type\": \"string\", \"name\": \"saleCondition\"}, {\"type\": \"long\", \"name\": \"cosolidatedVolume\"}]}, {\"type\": \"record\", \"version\": \"1\", \"name\": \"SeqTradeReportLongMessage\", \"namespace\": \"com.nasdaq.equities.trades.applications.nls.messaging.binary21\", \"fields\": [{\"type\": \"int\", \"name\": \"SoupPartition\"}, {\"type\": \"long\", \"name\": \"SoupSequence\"}, {\"type\": \"long\", \"name\": \"trackingID\"}, {\"type\": \"string\", \"name\": \"msgType\"}, {\"type\": \"string\", \"name\": \"marketCenter\"}, {\"type\": \"string\", \"name\": \"symbol\"}, {\"type\": \"string\", \"name\": \"securityClass\"}, {\"type\": \"string\", \"name\": \"controlNumber\"}, {\"type\": \"long\", \"name\": \"price\"}, {\"type\": \"int\", \"name\": \"size\"}, {\"type\": \"string\", \"name\": \"saleCondition\"}, {\"type\": \"long\", \"name\": \"cosolidatedVolume\"}]}, {\"type\": \"record\", \"version\": \"1\", \"name\": \"SeqTradeReportMessage\", \"namespace\": \"com.nasdaq.equities.trades.applications.nls.messaging.binary21\", \"fields\": [{\"type\": \"int\", \"name\": \"SoupPartition\"}, {\"type\": \"long\", \"name\": \"SoupSequence\"}, {\"type\": \"long\", \"name\": \"trackingID\"}, {\"type\": \"string\", \"name\": \"msgType\"}, {\"type\": \"string\", \"name\": \"marketCenter\"}, {\"type\": \"string\", \"name\": \"symbol\"}, {\"type\": \"string\", \"name\": \"securityClass\"}, {\"type\": \"string\", \"name\": \"controlNumber\"}, {\"type\": \"int\", \"name\": \"price\"}, {\"type\": \"int\", \"name\": \"size\"}, {\"type\": \"string\", \"name\": \"saleCondition\"}, {\"type\": \"long\", \"name\": \"cosolidatedVolume\"}]}, {\"type\": \"record\", \"version\": \"1\", \"name\": \"SeqTradingStateMessage\", \"namespace\": \"com.nasdaq.equities.trades.applications.nls.messaging.binary21\", \"fields\": [{\"type\": \"int\", \"name\": \"SoupPartition\"}, {\"type\": \"long\", \"name\": \"SoupSequence\"}, {\"type\": \"long\", \"name\": \"trackingID\"}, {\"type\": \"string\", \"name\": \"msgType\"}, {\"type\": \"string\", \"name\": \"filler\"}, {\"type\": \"string\", \"name\": \"symbol\"}, {\"type\": \"string\", \"name\": \"market\"}, {\"type\": \"string\", \"name\": \"tradingState\"}, {\"type\": \"string\", \"name\": \"reason\"}]}]\n"
     ]
    }
   ],
   "metadata": {}
  },
  {
   "cell_type": "markdown",
   "source": [
    "### Get first 10 messages of the stream"
   ],
   "metadata": {}
  },
  {
   "cell_type": "code",
   "execution_count": 5,
   "source": [
    "ncds_client = NCDSClient(security_cfg, kafka_cfg)\n",
    "topic = \"NLSCTA\"\n",
    "records = ncds_client.top_messages(topic)\n",
    "for i in range(0, 10):\n",
    "    print(\"key: \", records[i].key())\n",
    "    print(\"value: \", str(records[i].value()))"
   ],
   "outputs": [
    {
     "output_type": "stream",
     "name": "stdout",
     "text": [
      "latest record found\n",
      "key:  1\n",
      "value:  {\"SoupPartition\": 0, \"SoupSequence\": 1, \"trackingID\": 7233292771056, \"msgType\": \"S\", \"event\": \"O\", \"schema_name\": \"SeqSystemEventMessage\"}\n",
      "key:  2\n",
      "value:  {\"SoupPartition\": 0, \"SoupSequence\": 2, \"trackingID\": 11578719526113, \"msgType\": \"R\", \"symbol\": \"A\", \"marketClass\": \"N\", \"fsi\": \"\", \"roundLotSize\": 100, \"roundLotOnly\": \"N\", \"issueClass\": \"C\", \"issueSubtype\": \"Z\", \"authenticity\": \"P\", \"shortThreshold\": \"N\", \"ipo\": \"\", \"luldTier\": \"1\", \"etf\": \"N\", \"etfFactor\": 0, \"inverseETF\": \"N\", \"compositeId\": \"BBG000C2V3D6\", \"schema_name\": \"SeqDirectoryMessage\"}\n",
      "key:  3\n",
      "value:  {\"SoupPartition\": 0, \"SoupSequence\": 3, \"trackingID\": 11578719526113, \"msgType\": \"G\", \"symbol\": \"A\", \"securityClass\": \"N\", \"adjClosingPrice\": 1500300, \"schema_name\": \"SeqAdjClosingPrice\"}\n",
      "key:  4\n",
      "value:  {\"SoupPartition\": 0, \"SoupSequence\": 4, \"trackingID\": 11578719831656, \"msgType\": \"R\", \"symbol\": \"AA\", \"marketClass\": \"N\", \"fsi\": \"\", \"roundLotSize\": 100, \"roundLotOnly\": \"N\", \"issueClass\": \"C\", \"issueSubtype\": \"Z\", \"authenticity\": \"P\", \"shortThreshold\": \"N\", \"ipo\": \"\", \"luldTier\": \"1\", \"etf\": \"N\", \"etfFactor\": 1, \"inverseETF\": \"N\", \"compositeId\": \"BBG00B3T3HD3\", \"schema_name\": \"SeqDirectoryMessage\"}\n",
      "key:  5\n",
      "value:  {\"SoupPartition\": 0, \"SoupSequence\": 5, \"trackingID\": 11578719831656, \"msgType\": \"G\", \"symbol\": \"AA\", \"securityClass\": \"N\", \"adjClosingPrice\": 374400, \"schema_name\": \"SeqAdjClosingPrice\"}\n",
      "key:  6\n",
      "value:  {\"SoupPartition\": 0, \"SoupSequence\": 6, \"trackingID\": 11578719879872, \"msgType\": \"R\", \"symbol\": \"AAA\", \"marketClass\": \"P\", \"fsi\": \"\", \"roundLotSize\": 100, \"roundLotOnly\": \"N\", \"issueClass\": \"Q\", \"issueSubtype\": \"I\", \"authenticity\": \"P\", \"shortThreshold\": \"N\", \"ipo\": \"\", \"luldTier\": \"2\", \"etf\": \"Y\", \"etfFactor\": 1, \"inverseETF\": \"N\", \"compositeId\": \"BBG00X5FSP48\", \"schema_name\": \"SeqDirectoryMessage\"}\n",
      "key:  7\n",
      "value:  {\"SoupPartition\": 0, \"SoupSequence\": 7, \"trackingID\": 11578719879872, \"msgType\": \"G\", \"symbol\": \"AAA\", \"securityClass\": \"P\", \"adjClosingPrice\": 250050, \"schema_name\": \"SeqAdjClosingPrice\"}\n",
      "key:  8\n",
      "value:  {\"SoupPartition\": 0, \"SoupSequence\": 8, \"trackingID\": 11578719916519, \"msgType\": \"R\", \"symbol\": \"AAAU\", \"marketClass\": \"P\", \"fsi\": \"\", \"roundLotSize\": 100, \"roundLotOnly\": \"N\", \"issueClass\": \"Q\", \"issueSubtype\": \"I\", \"authenticity\": \"P\", \"shortThreshold\": \"N\", \"ipo\": \"\", \"luldTier\": \"1\", \"etf\": \"Y\", \"etfFactor\": 1, \"inverseETF\": \"N\", \"compositeId\": \"BBG00LPXX872\", \"schema_name\": \"SeqDirectoryMessage\"}\n",
      "key:  9\n",
      "value:  {\"SoupPartition\": 0, \"SoupSequence\": 9, \"trackingID\": 11578719916519, \"msgType\": \"G\", \"symbol\": \"AAAU\", \"securityClass\": \"P\", \"adjClosingPrice\": 179850, \"schema_name\": \"SeqAdjClosingPrice\"}\n",
      "key:  10\n",
      "value:  {\"SoupPartition\": 0, \"SoupSequence\": 10, \"trackingID\": 11578719950254, \"msgType\": \"R\", \"symbol\": \"AAC\", \"marketClass\": \"N\", \"fsi\": \"\", \"roundLotSize\": 100, \"roundLotOnly\": \"N\", \"issueClass\": \"O\", \"issueSubtype\": \"Z\", \"authenticity\": \"P\", \"shortThreshold\": \"N\", \"ipo\": \"\", \"luldTier\": \"2\", \"etf\": \"N\", \"etfFactor\": 1, \"inverseETF\": \"N\", \"compositeId\": \"BBG00YZC2Z91\", \"schema_name\": \"SeqDirectoryMessage\"}\n"
     ]
    }
   ],
   "metadata": {}
  },
  {
   "cell_type": "markdown",
   "source": [
    "### Get first 10 messages of the stream from given timestamp\n",
    "This returns the first 10 available messages of the stream given timestamp in milliseconds since the UNIX epoch."
   ],
   "metadata": {}
  },
  {
   "cell_type": "code",
   "execution_count": 6,
   "source": [
    "ncds_client = NCDSClient(security_cfg, kafka_cfg)\n",
    "topic=\"NLSCTA\"\n",
    "timestamp = 1590084446510\n",
    "records = ncds_client.top_messages(topic, timestamp)\n",
    "for i in range(0, 10):\n",
    "    print(\"key: \", records[i].key())\n",
    "    print(\"value: \", str(records[i].value()))"
   ],
   "outputs": [
    {
     "output_type": "stream",
     "name": "stdout",
     "text": [
      "latest record found\n",
      "key:  1\n",
      "value:  {\"SoupPartition\": 0, \"SoupSequence\": 1, \"trackingID\": 7233292771056, \"msgType\": \"S\", \"event\": \"O\", \"schema_name\": \"SeqSystemEventMessage\"}\n",
      "key:  2\n",
      "value:  {\"SoupPartition\": 0, \"SoupSequence\": 2, \"trackingID\": 11578719526113, \"msgType\": \"R\", \"symbol\": \"A\", \"marketClass\": \"N\", \"fsi\": \"\", \"roundLotSize\": 100, \"roundLotOnly\": \"N\", \"issueClass\": \"C\", \"issueSubtype\": \"Z\", \"authenticity\": \"P\", \"shortThreshold\": \"N\", \"ipo\": \"\", \"luldTier\": \"1\", \"etf\": \"N\", \"etfFactor\": 0, \"inverseETF\": \"N\", \"compositeId\": \"BBG000C2V3D6\", \"schema_name\": \"SeqDirectoryMessage\"}\n",
      "key:  3\n",
      "value:  {\"SoupPartition\": 0, \"SoupSequence\": 3, \"trackingID\": 11578719526113, \"msgType\": \"G\", \"symbol\": \"A\", \"securityClass\": \"N\", \"adjClosingPrice\": 1500300, \"schema_name\": \"SeqAdjClosingPrice\"}\n",
      "key:  4\n",
      "value:  {\"SoupPartition\": 0, \"SoupSequence\": 4, \"trackingID\": 11578719831656, \"msgType\": \"R\", \"symbol\": \"AA\", \"marketClass\": \"N\", \"fsi\": \"\", \"roundLotSize\": 100, \"roundLotOnly\": \"N\", \"issueClass\": \"C\", \"issueSubtype\": \"Z\", \"authenticity\": \"P\", \"shortThreshold\": \"N\", \"ipo\": \"\", \"luldTier\": \"1\", \"etf\": \"N\", \"etfFactor\": 1, \"inverseETF\": \"N\", \"compositeId\": \"BBG00B3T3HD3\", \"schema_name\": \"SeqDirectoryMessage\"}\n",
      "key:  5\n",
      "value:  {\"SoupPartition\": 0, \"SoupSequence\": 5, \"trackingID\": 11578719831656, \"msgType\": \"G\", \"symbol\": \"AA\", \"securityClass\": \"N\", \"adjClosingPrice\": 374400, \"schema_name\": \"SeqAdjClosingPrice\"}\n",
      "key:  6\n",
      "value:  {\"SoupPartition\": 0, \"SoupSequence\": 6, \"trackingID\": 11578719879872, \"msgType\": \"R\", \"symbol\": \"AAA\", \"marketClass\": \"P\", \"fsi\": \"\", \"roundLotSize\": 100, \"roundLotOnly\": \"N\", \"issueClass\": \"Q\", \"issueSubtype\": \"I\", \"authenticity\": \"P\", \"shortThreshold\": \"N\", \"ipo\": \"\", \"luldTier\": \"2\", \"etf\": \"Y\", \"etfFactor\": 1, \"inverseETF\": \"N\", \"compositeId\": \"BBG00X5FSP48\", \"schema_name\": \"SeqDirectoryMessage\"}\n",
      "key:  7\n",
      "value:  {\"SoupPartition\": 0, \"SoupSequence\": 7, \"trackingID\": 11578719879872, \"msgType\": \"G\", \"symbol\": \"AAA\", \"securityClass\": \"P\", \"adjClosingPrice\": 250050, \"schema_name\": \"SeqAdjClosingPrice\"}\n",
      "key:  8\n",
      "value:  {\"SoupPartition\": 0, \"SoupSequence\": 8, \"trackingID\": 11578719916519, \"msgType\": \"R\", \"symbol\": \"AAAU\", \"marketClass\": \"P\", \"fsi\": \"\", \"roundLotSize\": 100, \"roundLotOnly\": \"N\", \"issueClass\": \"Q\", \"issueSubtype\": \"I\", \"authenticity\": \"P\", \"shortThreshold\": \"N\", \"ipo\": \"\", \"luldTier\": \"1\", \"etf\": \"Y\", \"etfFactor\": 1, \"inverseETF\": \"N\", \"compositeId\": \"BBG00LPXX872\", \"schema_name\": \"SeqDirectoryMessage\"}\n",
      "key:  9\n",
      "value:  {\"SoupPartition\": 0, \"SoupSequence\": 9, \"trackingID\": 11578719916519, \"msgType\": \"G\", \"symbol\": \"AAAU\", \"securityClass\": \"P\", \"adjClosingPrice\": 179850, \"schema_name\": \"SeqAdjClosingPrice\"}\n",
      "key:  10\n",
      "value:  {\"SoupPartition\": 0, \"SoupSequence\": 10, \"trackingID\": 11578719950254, \"msgType\": \"R\", \"symbol\": \"AAC\", \"marketClass\": \"N\", \"fsi\": \"\", \"roundLotSize\": 100, \"roundLotOnly\": \"N\", \"issueClass\": \"O\", \"issueSubtype\": \"Z\", \"authenticity\": \"P\", \"shortThreshold\": \"N\", \"ipo\": \"\", \"luldTier\": \"2\", \"etf\": \"N\", \"etfFactor\": 1, \"inverseETF\": \"N\", \"compositeId\": \"BBG00YZC2Z91\", \"schema_name\": \"SeqDirectoryMessage\"}\n"
     ]
    }
   ],
   "metadata": {}
  },
  {
   "cell_type": "markdown",
   "source": [
    "### Get example message from stream\n",
    "Print message to the console for given message name."
   ],
   "metadata": {}
  },
  {
   "cell_type": "code",
   "execution_count": 5,
   "source": [
    "ncds_client = NCDSClient(security_cfg, kafka_cfg)\n",
    "topic = \"NLSCTA\"\n",
    "print(ncds_client.get_sample_messages(topic, \"SeqDirectoryMessage\", all_messages=False))"
   ],
   "outputs": [
    {
     "output_type": "stream",
     "name": "stdout",
     "text": [
      "latest record found\n",
      "{'SoupPartition': 0, 'SoupSequence': 500, 'trackingID': 11578737109589, 'msgType': 'R', 'symbol': 'AMN', 'marketClass': 'N', 'fsi': '', 'roundLotSize': 100, 'roundLotOnly': 'N', 'issueClass': 'C', 'issueSubtype': 'Z', 'authenticity': 'P', 'shortThreshold': 'N', 'ipo': '', 'luldTier': '2', 'etf': 'N', 'etfFactor': 0, 'inverseETF': 'N', 'compositeId': 'BBG000BCT197', 'schema_name': 'SeqDirectoryMessage'}\n"
     ]
    }
   ],
   "metadata": {}
  },
  {
   "cell_type": "markdown",
   "source": [
    "### Get continuous stream"
   ],
   "metadata": {}
  },
  {
   "cell_type": "code",
   "execution_count": 8,
   "source": [
    "ncds_client = NCDSClient(security_cfg, kafka_cfg)\n",
    "topic = \"NLSCTA\"\n",
    "consumer = ncds_client.ncds_kafka_consumer(topic)\n",
    "for i in range(0, 10):\n",
    "    messages = consumer.consume(num_messages=1, timeout=5)\n",
    "    if len(messages) == 0:\n",
    "        print(f\"No Records Found for the Topic: {topic}\")\n",
    "              \n",
    "    for message in messages:\n",
    "        print(f\"value :\")",
    "        print(message.value())"
   ],
   "outputs": [
    {
     "output_type": "stream",
     "name": "stdout",
     "text": [
      "latest record found\n",
      "value :{\"SoupPartition\": 0, \"SoupSequence\": 1, \"trackingID\": 7233292771056, \"msgType\": \"S\", \"event\": \"O\", \"schema_name\": \"SeqSystemEventMessage\"}\n",
      "value :{\"SoupPartition\": 0, \"SoupSequence\": 2, \"trackingID\": 11578719526113, \"msgType\": \"R\", \"symbol\": \"A\", \"marketClass\": \"N\", \"fsi\": \"\", \"roundLotSize\": 100, \"roundLotOnly\": \"N\", \"issueClass\": \"C\", \"issueSubtype\": \"Z\", \"authenticity\": \"P\", \"shortThreshold\": \"N\", \"ipo\": \"\", \"luldTier\": \"1\", \"etf\": \"N\", \"etfFactor\": 0, \"inverseETF\": \"N\", \"compositeId\": \"BBG000C2V3D6\", \"schema_name\": \"SeqDirectoryMessage\"}\n",
      "value :{\"SoupPartition\": 0, \"SoupSequence\": 3, \"trackingID\": 11578719526113, \"msgType\": \"G\", \"symbol\": \"A\", \"securityClass\": \"N\", \"adjClosingPrice\": 1500300, \"schema_name\": \"SeqAdjClosingPrice\"}\n",
      "value :{\"SoupPartition\": 0, \"SoupSequence\": 4, \"trackingID\": 11578719831656, \"msgType\": \"R\", \"symbol\": \"AA\", \"marketClass\": \"N\", \"fsi\": \"\", \"roundLotSize\": 100, \"roundLotOnly\": \"N\", \"issueClass\": \"C\", \"issueSubtype\": \"Z\", \"authenticity\": \"P\", \"shortThreshold\": \"N\", \"ipo\": \"\", \"luldTier\": \"1\", \"etf\": \"N\", \"etfFactor\": 1, \"inverseETF\": \"N\", \"compositeId\": \"BBG00B3T3HD3\", \"schema_name\": \"SeqDirectoryMessage\"}\n",
      "value :{\"SoupPartition\": 0, \"SoupSequence\": 5, \"trackingID\": 11578719831656, \"msgType\": \"G\", \"symbol\": \"AA\", \"securityClass\": \"N\", \"adjClosingPrice\": 374400, \"schema_name\": \"SeqAdjClosingPrice\"}\n",
      "value :{\"SoupPartition\": 0, \"SoupSequence\": 6, \"trackingID\": 11578719879872, \"msgType\": \"R\", \"symbol\": \"AAA\", \"marketClass\": \"P\", \"fsi\": \"\", \"roundLotSize\": 100, \"roundLotOnly\": \"N\", \"issueClass\": \"Q\", \"issueSubtype\": \"I\", \"authenticity\": \"P\", \"shortThreshold\": \"N\", \"ipo\": \"\", \"luldTier\": \"2\", \"etf\": \"Y\", \"etfFactor\": 1, \"inverseETF\": \"N\", \"compositeId\": \"BBG00X5FSP48\", \"schema_name\": \"SeqDirectoryMessage\"}\n",
      "value :{\"SoupPartition\": 0, \"SoupSequence\": 7, \"trackingID\": 11578719879872, \"msgType\": \"G\", \"symbol\": \"AAA\", \"securityClass\": \"P\", \"adjClosingPrice\": 250050, \"schema_name\": \"SeqAdjClosingPrice\"}\n",
      "value :{\"SoupPartition\": 0, \"SoupSequence\": 8, \"trackingID\": 11578719916519, \"msgType\": \"R\", \"symbol\": \"AAAU\", \"marketClass\": \"P\", \"fsi\": \"\", \"roundLotSize\": 100, \"roundLotOnly\": \"N\", \"issueClass\": \"Q\", \"issueSubtype\": \"I\", \"authenticity\": \"P\", \"shortThreshold\": \"N\", \"ipo\": \"\", \"luldTier\": \"1\", \"etf\": \"Y\", \"etfFactor\": 1, \"inverseETF\": \"N\", \"compositeId\": \"BBG00LPXX872\", \"schema_name\": \"SeqDirectoryMessage\"}\n",
      "value :{\"SoupPartition\": 0, \"SoupSequence\": 9, \"trackingID\": 11578719916519, \"msgType\": \"G\", \"symbol\": \"AAAU\", \"securityClass\": \"P\", \"adjClosingPrice\": 179850, \"schema_name\": \"SeqAdjClosingPrice\"}\n",
      "value :{\"SoupPartition\": 0, \"SoupSequence\": 10, \"trackingID\": 11578719950254, \"msgType\": \"R\", \"symbol\": \"AAC\", \"marketClass\": \"N\", \"fsi\": \"\", \"roundLotSize\": 100, \"roundLotOnly\": \"N\", \"issueClass\": \"O\", \"issueSubtype\": \"Z\", \"authenticity\": \"P\", \"shortThreshold\": \"N\", \"ipo\": \"\", \"luldTier\": \"2\", \"etf\": \"N\", \"etfFactor\": 1, \"inverseETF\": \"N\", \"compositeId\": \"BBG00YZC2Z91\", \"schema_name\": \"SeqDirectoryMessage\"}\n"
     ]
    }
   ],
   "metadata": {}
  }
 ],
 "metadata": {
  "kernelspec": {
   "display_name": "Python 3 (ipykernel)",
   "language": "python",
   "name": "python3"
  },
  "language_info": {
   "codemirror_mode": {
    "name": "ipython",
    "version": 3
   },
   "file_extension": ".py",
   "mimetype": "text/x-python",
   "name": "python",
   "nbconvert_exporter": "python",
   "pygments_lexer": "ipython3",
   "version": "3.9.5"
  }
 },
 "nbformat": 4,
 "nbformat_minor": 5
}
